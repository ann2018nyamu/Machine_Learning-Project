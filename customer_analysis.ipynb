{
 "cells": [
  {
   "cell_type": "code",
   "execution_count": 1,
   "metadata": {},
   "outputs": [
    {
     "name": "stdout",
     "output_type": "stream",
     "text": [
      "Libraries imported\n"
     ]
    }
   ],
   "source": [
    "import pandas as pd\n",
    "import numpy as np\n",
    "import matplotlib.pyplot as plt\n",
    "import seaborn as sns\n",
    "print (\"Libraries imported\")"
   ]
  },
  {
   "cell_type": "code",
   "execution_count": 3,
   "metadata": {},
   "outputs": [
    {
     "name": "stdout",
     "output_type": "stream",
     "text": [
      "Dataset loaded successfully!\n"
     ]
    },
    {
     "data": {
      "text/html": [
       "<div>\n",
       "<style scoped>\n",
       "    .dataframe tbody tr th:only-of-type {\n",
       "        vertical-align: middle;\n",
       "    }\n",
       "\n",
       "    .dataframe tbody tr th {\n",
       "        vertical-align: top;\n",
       "    }\n",
       "\n",
       "    .dataframe thead th {\n",
       "        text-align: right;\n",
       "    }\n",
       "</style>\n",
       "<table border=\"1\" class=\"dataframe\">\n",
       "  <thead>\n",
       "    <tr style=\"text-align: right;\">\n",
       "      <th></th>\n",
       "      <th>Customer_ID</th>\n",
       "      <th>Age</th>\n",
       "      <th>Gender</th>\n",
       "      <th>Annual_Income</th>\n",
       "      <th>Spending_Score</th>\n",
       "      <th>Transaction_Amount</th>\n",
       "      <th>Purchase_Frequency</th>\n",
       "      <th>Discount_Applied</th>\n",
       "      <th>Product_Category</th>\n",
       "    </tr>\n",
       "  </thead>\n",
       "  <tbody>\n",
       "    <tr>\n",
       "      <th>0</th>\n",
       "      <td>1001</td>\n",
       "      <td>56</td>\n",
       "      <td>Female</td>\n",
       "      <td>63088</td>\n",
       "      <td>24</td>\n",
       "      <td>241.05</td>\n",
       "      <td>3</td>\n",
       "      <td>1</td>\n",
       "      <td>Furniture</td>\n",
       "    </tr>\n",
       "    <tr>\n",
       "      <th>1</th>\n",
       "      <td>1002</td>\n",
       "      <td>69</td>\n",
       "      <td>Male</td>\n",
       "      <td>59811</td>\n",
       "      <td>81</td>\n",
       "      <td>276.18</td>\n",
       "      <td>7</td>\n",
       "      <td>1</td>\n",
       "      <td>Electronics</td>\n",
       "    </tr>\n",
       "    <tr>\n",
       "      <th>2</th>\n",
       "      <td>1003</td>\n",
       "      <td>46</td>\n",
       "      <td>Male</td>\n",
       "      <td>75479</td>\n",
       "      <td>74</td>\n",
       "      <td>88.03</td>\n",
       "      <td>14</td>\n",
       "      <td>1</td>\n",
       "      <td>Beauty</td>\n",
       "    </tr>\n",
       "    <tr>\n",
       "      <th>3</th>\n",
       "      <td>1004</td>\n",
       "      <td>32</td>\n",
       "      <td>Female</td>\n",
       "      <td>105392</td>\n",
       "      <td>30</td>\n",
       "      <td>109.81</td>\n",
       "      <td>7</td>\n",
       "      <td>1</td>\n",
       "      <td>Furniture</td>\n",
       "    </tr>\n",
       "    <tr>\n",
       "      <th>4</th>\n",
       "      <td>1005</td>\n",
       "      <td>60</td>\n",
       "      <td>Male</td>\n",
       "      <td>107369</td>\n",
       "      <td>59</td>\n",
       "      <td>54.67</td>\n",
       "      <td>5</td>\n",
       "      <td>0</td>\n",
       "      <td>Beauty</td>\n",
       "    </tr>\n",
       "  </tbody>\n",
       "</table>\n",
       "</div>"
      ],
      "text/plain": [
       "   Customer_ID  Age  Gender  Annual_Income  Spending_Score  \\\n",
       "0         1001   56  Female          63088              24   \n",
       "1         1002   69    Male          59811              81   \n",
       "2         1003   46    Male          75479              74   \n",
       "3         1004   32  Female         105392              30   \n",
       "4         1005   60    Male         107369              59   \n",
       "\n",
       "   Transaction_Amount  Purchase_Frequency  Discount_Applied Product_Category  \n",
       "0              241.05                   3                 1        Furniture  \n",
       "1              276.18                   7                 1      Electronics  \n",
       "2               88.03                  14                 1           Beauty  \n",
       "3              109.81                   7                 1        Furniture  \n",
       "4               54.67                   5                 0           Beauty  "
      ]
     },
     "execution_count": 3,
     "metadata": {},
     "output_type": "execute_result"
    }
   ],
   "source": [
    "# Load the data\n",
    "file_path = 'Data_Modeling Python Project.xlsx'\n",
    "df = pd.read_excel(file_path, engine='openpyxl')\n",
    "print(\"Dataset loaded successfully!\")\n",
    "df.head()"
   ]
  }
 ],
 "metadata": {
  "kernelspec": {
   "display_name": "Python 3",
   "language": "python",
   "name": "python3"
  },
  "language_info": {
   "codemirror_mode": {
    "name": "ipython",
    "version": 3
   },
   "file_extension": ".py",
   "mimetype": "text/x-python",
   "name": "python",
   "nbconvert_exporter": "python",
   "pygments_lexer": "ipython3",
   "version": "3.13.1"
  }
 },
 "nbformat": 4,
 "nbformat_minor": 2
}
